{
  "nbformat": 4,
  "nbformat_minor": 0,
  "metadata": {
    "colab": {
      "name": "DRL_CartpoleEnv_Rlib.pynb",
      "provenance": [],
      "collapsed_sections": [],
      "authorship_tag": "ABX9TyNztv88akuWNctoncXOEgGa",
      "include_colab_link": true
    },
    "kernelspec": {
      "name": "python3",
      "display_name": "Python 3"
    },
    "accelerator": "GPU"
  },
  "cells": [
    {
      "cell_type": "markdown",
      "metadata": {
        "id": "view-in-github",
        "colab_type": "text"
      },
      "source": [
        "<a href=\"https://colab.research.google.com/github/Jalapinho1/Deep-Reinforcement-Learning-Explained/blob/main/DRL_CartpoleEnv_Rlib_pynb.ipynb\" target=\"_parent\"><img src=\"https://colab.research.google.com/assets/colab-badge.svg\" alt=\"Open In Colab\"/></a>"
      ]
    },
    {
      "cell_type": "code",
      "metadata": {
        "colab": {
          "base_uri": "https://localhost:8080/"
        },
        "id": "bs8DdVS63Y4v",
        "outputId": "1a72e6be-45fa-45cc-b5f1-22458de971b4"
      },
      "source": [
        "#Installing all the dependences\r\n",
        "!pip uninstall -y pyarrow  > /dev/null\r\n",
        "#!pip install ray[debug]==0.7.5  > /dev/null 2>&1\r\n",
        "! pip install -U ray[rllib] &> /dev/null\r\n",
        "!pip install bs4  > /dev/null 2>&1\r\n",
        "\r\n",
        "import os\r\n",
        "os._exit(0)"
      ],
      "execution_count": null,
      "outputs": [
        {
          "output_type": "stream",
          "text": [
            "\u001b[33mWARNING: Skipping pyarrow as it is not installed.\u001b[0m\n"
          ],
          "name": "stdout"
        }
      ]
    },
    {
      "cell_type": "code",
      "metadata": {
        "colab": {
          "base_uri": "https://localhost:8080/"
        },
        "id": "a30VV3f731CA",
        "outputId": "0d43d80f-fec9-4478-b6c0-53918393f9d7"
      },
      "source": [
        "import gym\r\n",
        "import numpy as np\r\n",
        "from matplotlib import pyplot as plt\r\n",
        "\r\n",
        "env = gym.make('CartPole-v0')\r\n",
        "\r\n",
        "import gym\r\n",
        "import ray\r\n",
        "\r\n",
        "from ray.rllib.agents.ppo import PPOTrainer, DEFAULT_CONFIG"
      ],
      "execution_count": 1,
      "outputs": [
        {
          "output_type": "stream",
          "text": [
            "WARNING:tensorflow:From /usr/local/lib/python3.6/dist-packages/tensorflow/python/compat/v2_compat.py:96: disable_resource_variables (from tensorflow.python.ops.variable_scope) is deprecated and will be removed in a future version.\n",
            "Instructions for updating:\n",
            "non-resource variables are not supported in the long term\n"
          ],
          "name": "stdout"
        }
      ]
    },
    {
      "cell_type": "code",
      "metadata": {
        "colab": {
          "base_uri": "https://localhost:8080/"
        },
        "id": "Y-wTXJBc36Nq",
        "outputId": "a7bd2a98-26a5-4af5-af7a-a8ac7d6a8205"
      },
      "source": [
        "# Configuration image rendering in colab\r\n",
        "\r\n",
        "# Taken from https://towardsdatascience.com/rendering-openai-gym-envs-on-binder-and-google-colab-536f99391cc7\r\n",
        "\r\n",
        "!apt-get install -y xvfb x11-utils &> /dev/null\r\n",
        "!pip install pyvirtualdisplay==0.2.*  PyOpenGL==3.1.* PyOpenGL-accelerate==3.1.* &> /dev/null\r\n",
        "!pip install gym[box2d]==0.17.* &> /dev/null\r\n",
        "\r\n",
        "# Taken from https://github.com/actions/virtual-environments/issues/214\r\n",
        "!sudo apt-get update  &> /dev/null \r\n",
        "!sudo apt-get install xvfb --fix-missing &> /dev/null\r\n",
        "\r\n",
        "import pyvirtualdisplay\r\n",
        "\r\n",
        "_display = pyvirtualdisplay.Display(visible=False, size=(1400, 900))\r\n",
        "_ = _display.start()\r\n",
        "\r\n",
        "!echo $DISPLAY # sanity checking: should be set to some value (e.g. 1005)\r\n",
        "\r\n",
        "from IPython import display"
      ],
      "execution_count": 2,
      "outputs": [
        {
          "output_type": "stream",
          "text": [
            ":1005\n"
          ],
          "name": "stdout"
        }
      ]
    },
    {
      "cell_type": "code",
      "metadata": {
        "colab": {
          "base_uri": "https://localhost:8080/"
        },
        "id": "Rs9AbJuu4BZl",
        "outputId": "58616aa7-6d9e-4001-e187-5ab67bb8c767"
      },
      "source": [
        "ray.init()"
      ],
      "execution_count": 3,
      "outputs": [
        {
          "output_type": "stream",
          "text": [
            "2021-01-07 22:16:29,109\tINFO services.py:1173 -- View the Ray dashboard at \u001b[1m\u001b[32mhttp://127.0.0.1:8265\u001b[39m\u001b[22m\n"
          ],
          "name": "stderr"
        },
        {
          "output_type": "execute_result",
          "data": {
            "text/plain": [
              "{'metrics_export_port': 49946,\n",
              " 'node_id': '0d04d56eb62125e90347411309215f1d2ed88aff',\n",
              " 'node_ip_address': '172.28.0.2',\n",
              " 'object_store_address': '/tmp/ray/session_2021-01-07_22-16-28_551626_3844/sockets/plasma_store',\n",
              " 'raylet_ip_address': '172.28.0.2',\n",
              " 'raylet_socket_name': '/tmp/ray/session_2021-01-07_22-16-28_551626_3844/sockets/raylet',\n",
              " 'redis_address': '172.28.0.2:6379',\n",
              " 'session_dir': '/tmp/ray/session_2021-01-07_22-16-28_551626_3844',\n",
              " 'webui_url': '127.0.0.1:8265'}"
            ]
          },
          "metadata": {
            "tags": []
          },
          "execution_count": 3
        }
      ]
    },
    {
      "cell_type": "code",
      "metadata": {
        "colab": {
          "base_uri": "https://localhost:8080/"
        },
        "id": "0jGcB26H4KQF",
        "outputId": "799dbef9-3304-45d9-ea67-b0e843faaf76"
      },
      "source": [
        "config = DEFAULT_CONFIG.copy()\r\n",
        "config[\"num_gpus\"] = 1 # in order to use the GPU\r\n",
        "\r\n",
        "agentPPO = PPOTrainer(config, 'CartPole-v0')"
      ],
      "execution_count": 4,
      "outputs": [
        {
          "output_type": "stream",
          "text": [
            "2021-01-07 22:16:34,576\tINFO trainer.py:591 -- Tip: set framework=tfe or the --eager flag to enable TensorFlow eager execution\n",
            "2021-01-07 22:16:34,577\tINFO trainer.py:618 -- Current log_level is WARN. For more information, set 'log_level': 'INFO' / 'DEBUG' or use the -v and -vv flags.\n",
            "\u001b[2m\u001b[36m(pid=4728)\u001b[0m WARNING:tensorflow:From /usr/local/lib/python3.6/dist-packages/tensorflow/python/compat/v2_compat.py:96: disable_resource_variables (from tensorflow.python.ops.variable_scope) is deprecated and will be removed in a future version.\n",
            "\u001b[2m\u001b[36m(pid=4728)\u001b[0m Instructions for updating:\n",
            "\u001b[2m\u001b[36m(pid=4728)\u001b[0m non-resource variables are not supported in the long term\n",
            "\u001b[2m\u001b[36m(pid=4729)\u001b[0m WARNING:tensorflow:From /usr/local/lib/python3.6/dist-packages/tensorflow/python/compat/v2_compat.py:96: disable_resource_variables (from tensorflow.python.ops.variable_scope) is deprecated and will be removed in a future version.\n",
            "\u001b[2m\u001b[36m(pid=4729)\u001b[0m Instructions for updating:\n",
            "\u001b[2m\u001b[36m(pid=4729)\u001b[0m non-resource variables are not supported in the long term\n",
            "2021-01-07 22:16:45,095\tINFO trainable.py:102 -- Trainable.setup took 10.520 seconds. If your trainable is slow to initialize, consider setting reuse_actors=True to reduce actor creation overheads.\n",
            "2021-01-07 22:16:45,096\tWARNING util.py:43 -- Install gputil for GPU system monitoring.\n"
          ],
          "name": "stderr"
        }
      ]
    },
    {
      "cell_type": "code",
      "metadata": {
        "colab": {
          "base_uri": "https://localhost:8080/"
        },
        "id": "S3rQfYgW4MEZ",
        "outputId": "89561c09-1554-41a4-d32c-404709cc8b85"
      },
      "source": [
        "print(DEFAULT_CONFIG)"
      ],
      "execution_count": 6,
      "outputs": [
        {
          "output_type": "stream",
          "text": [
            "{'num_workers': 2, 'num_envs_per_worker': 1, 'create_env_on_driver': False, 'rollout_fragment_length': 200, 'batch_mode': 'truncate_episodes', 'num_gpus': 0, 'train_batch_size': 4000, 'model': {'fcnet_hiddens': [256, 256], 'fcnet_activation': 'tanh', 'conv_filters': None, 'conv_activation': 'relu', 'free_log_std': False, 'no_final_linear': False, 'vf_share_layers': True, 'use_lstm': False, 'max_seq_len': 20, 'lstm_cell_size': 256, 'lstm_use_prev_action': False, 'lstm_use_prev_reward': False, '_time_major': False, 'framestack': True, 'dim': 84, 'grayscale': False, 'zero_mean': True, 'custom_model': None, 'custom_model_config': {}, 'custom_action_dist': None, 'custom_preprocessor': None, 'lstm_use_prev_action_reward': -1}, 'optimizer': {}, 'gamma': 0.99, 'horizon': None, 'soft_horizon': False, 'no_done_at_end': False, 'env_config': {}, 'env': None, 'normalize_actions': False, 'clip_rewards': None, 'clip_actions': True, 'preprocessor_pref': 'deepmind', 'lr': 5e-05, 'monitor': False, 'log_level': 'WARN', 'callbacks': <class 'ray.rllib.agents.callbacks.DefaultCallbacks'>, 'ignore_worker_failures': False, 'log_sys_usage': True, 'fake_sampler': False, 'framework': 'tf', 'eager_tracing': False, 'explore': True, 'exploration_config': {'type': 'StochasticSampling'}, 'evaluation_interval': None, 'evaluation_num_episodes': 10, 'in_evaluation': False, 'evaluation_config': {}, 'evaluation_num_workers': 0, 'custom_eval_function': None, 'sample_async': False, '_use_trajectory_view_api': True, 'observation_filter': 'NoFilter', 'synchronize_filters': True, 'tf_session_args': {'intra_op_parallelism_threads': 2, 'inter_op_parallelism_threads': 2, 'gpu_options': {'allow_growth': True}, 'log_device_placement': False, 'device_count': {'CPU': 1}, 'allow_soft_placement': True}, 'local_tf_session_args': {'intra_op_parallelism_threads': 8, 'inter_op_parallelism_threads': 8}, 'compress_observations': False, 'collect_metrics_timeout': 180, 'metrics_smoothing_episodes': 100, 'remote_worker_envs': False, 'remote_env_batch_wait_ms': 0, 'min_iter_time_s': 0, 'timesteps_per_iteration': 0, 'seed': None, 'extra_python_environs_for_driver': {}, 'extra_python_environs_for_worker': {}, 'num_cpus_per_worker': 1, 'num_gpus_per_worker': 0, 'custom_resources_per_worker': {}, 'num_cpus_for_driver': 1, 'memory': 0, 'object_store_memory': 0, 'memory_per_worker': 0, 'object_store_memory_per_worker': 0, 'input': 'sampler', 'input_evaluation': ['is', 'wis'], 'postprocess_inputs': False, 'shuffle_buffer_size': 0, 'output': None, 'output_compress_columns': ['obs', 'new_obs'], 'output_max_file_size': 67108864, 'multiagent': {'policies': {}, 'policy_mapping_fn': None, 'policies_to_train': None, 'observation_fn': None, 'replay_mode': 'independent'}, 'logger_config': None, 'replay_sequence_length': 1, 'use_critic': True, 'use_gae': True, 'lambda': 1.0, 'kl_coeff': 0.2, 'sgd_minibatch_size': 128, 'shuffle_sequences': True, 'num_sgd_iter': 30, 'lr_schedule': None, 'vf_share_layers': False, 'vf_loss_coeff': 1.0, 'entropy_coeff': 0.0, 'entropy_coeff_schedule': None, 'clip_param': 0.3, 'vf_clip_param': 10.0, 'grad_clip': None, 'kl_target': 0.01, 'simple_optimizer': False, '_fake_gpus': False}\n"
          ],
          "name": "stdout"
        }
      ]
    },
    {
      "cell_type": "code",
      "metadata": {
        "colab": {
          "base_uri": "https://localhost:8080/",
          "height": 265
        },
        "id": "k9boNyts4QZj",
        "outputId": "9010ceb8-0540-4e1c-e33e-19ebbbaf7998"
      },
      "source": [
        "def watch_agent(agent, env):\r\n",
        "  state = env.reset()\r\n",
        "  rewards = []\r\n",
        "  img = plt.imshow(env.render(mode='rgb_array'))\r\n",
        "  for t in range(2000):\r\n",
        "    action=agent.compute_action(state)\r\n",
        "\r\n",
        "    img.set_data(env.render(mode='rgb_array')) \r\n",
        "    plt.axis('off')\r\n",
        "    display.display(plt.gcf())\r\n",
        "    display.clear_output(wait=True)\r\n",
        "\r\n",
        "    state, reward, done, _ = env.step(action)\r\n",
        "    rewards.append(reward)\r\n",
        "    if done:\r\n",
        "        print(\"Reward:\", sum([r for r in rewards]))\r\n",
        "        break \r\n",
        "  env.close()\r\n",
        "\r\n",
        "watch_agent(agentPPO, env)"
      ],
      "execution_count": 5,
      "outputs": [
        {
          "output_type": "stream",
          "text": [
            "Reward: 10.0\n"
          ],
          "name": "stdout"
        },
        {
          "output_type": "display_data",
          "data": {
            "image/png": "[encoded data removed]",
            "text/plain": [
              "<Figure size 432x288 with 1 Axes>"
            ]
          },
          "metadata": {
            "tags": [],
            "needs_background": "light"
          }
        }
      ]
    },
    {
      "cell_type": "markdown",
      "metadata": {
        "id": "EKw5Cl_z4VjN"
      },
      "source": [
        "Train"
      ]
    },
    {
      "cell_type": "code",
      "metadata": {
        "colab": {
          "base_uri": "https://localhost:8080/"
        },
        "id": "nVcH9CFv4WOD",
        "outputId": "b3950e57-558c-437f-9433-375114830942"
      },
      "source": [
        "for i in range(10):\r\n",
        "  result = agentPPO.train()\r\n",
        "  print(f'Mean reward: {result[\"episode_reward_mean\"]:4.1f}')"
      ],
      "execution_count": 6,
      "outputs": [
        {
          "output_type": "stream",
          "text": [
            "\u001b[2m\u001b[36m(pid=4729)\u001b[0m 2021-01-07 22:16:55,615\tWARNING deprecation.py:30 -- DeprecationWarning: `env_index` has been deprecated. Use `episode.env_id` instead. This will raise an error in the future!\n"
          ],
          "name": "stderr"
        },
        {
          "output_type": "stream",
          "text": [
            "WARNING:tensorflow:From /usr/local/lib/python3.6/dist-packages/ray/rllib/policy/tf_policy.py:852: Variable.load (from tensorflow.python.ops.variables) is deprecated and will be removed in a future version.\n",
            "Instructions for updating:\n",
            "Prefer Variable.assign which has equivalent behavior in 2.X.\n"
          ],
          "name": "stdout"
        },
        {
          "output_type": "stream",
          "text": [
            "\u001b[2m\u001b[36m(pid=4728)\u001b[0m WARNING:tensorflow:From /usr/local/lib/python3.6/dist-packages/ray/rllib/policy/tf_policy.py:852: Variable.load (from tensorflow.python.ops.variables) is deprecated and will be removed in a future version.\n",
            "\u001b[2m\u001b[36m(pid=4728)\u001b[0m Instructions for updating:\n",
            "\u001b[2m\u001b[36m(pid=4728)\u001b[0m Prefer Variable.assign which has equivalent behavior in 2.X.\n",
            "\u001b[2m\u001b[36m(pid=4729)\u001b[0m WARNING:tensorflow:From /usr/local/lib/python3.6/dist-packages/ray/rllib/policy/tf_policy.py:852: Variable.load (from tensorflow.python.ops.variables) is deprecated and will be removed in a future version.\n",
            "\u001b[2m\u001b[36m(pid=4729)\u001b[0m Instructions for updating:\n",
            "\u001b[2m\u001b[36m(pid=4729)\u001b[0m Prefer Variable.assign which has equivalent behavior in 2.X.\n"
          ],
          "name": "stderr"
        },
        {
          "output_type": "stream",
          "text": [
            "Mean reward: 23.2\n",
            "Mean reward: 42.3\n",
            "Mean reward: 65.8\n",
            "Mean reward: 95.2\n",
            "Mean reward: 125.8\n",
            "Mean reward: 148.6\n",
            "Mean reward: 169.0\n",
            "Mean reward: 182.1\n",
            "Mean reward: 187.8\n",
            "Mean reward: 191.8\n"
          ],
          "name": "stdout"
        }
      ]
    },
    {
      "cell_type": "markdown",
      "metadata": {
        "id": "ijanQ4Al4m5_"
      },
      "source": [
        "After training"
      ]
    },
    {
      "cell_type": "code",
      "metadata": {
        "colab": {
          "base_uri": "https://localhost:8080/",
          "height": 265
        },
        "id": "2T-d_2Xv4mNh",
        "outputId": "315cf18d-ad9a-4c29-d56e-1d4c1b8430cd"
      },
      "source": [
        "watch_agent(agentPPO, env)"
      ],
      "execution_count": 7,
      "outputs": [
        {
          "output_type": "stream",
          "text": [
            "Reward: 200.0\n"
          ],
          "name": "stdout"
        },
        {
          "output_type": "display_data",
          "data": {
            "image/png": "[encoded data removed]",
            "text/plain": [
              "<Figure size 432x288 with 1 Axes>"
            ]
          },
          "metadata": {
            "tags": [],
            "needs_background": "light"
          }
        }
      ]
    },
    {
      "cell_type": "markdown",
      "metadata": {
        "id": "AG_TQTJV43Fv"
      },
      "source": [
        "**Training using DQN**\r\n"
      ]
    },
    {
      "cell_type": "code",
      "metadata": {
        "colab": {
          "base_uri": "https://localhost:8080/",
          "height": 265
        },
        "id": "y4qoBQWn45D0",
        "outputId": "58894773-aa3d-40b3-eea3-4de3eed99a60"
      },
      "source": [
        "from ray.rllib.agents.dqn import DQNTrainer, DEFAULT_CONFIG\r\n",
        "config = DEFAULT_CONFIG.copy()\r\n",
        "config[\"num_gpus\"] = 1 # in order to use the GPU\r\n",
        "agentDQN = DQNTrainer(config=config, env='CartPole-v0')\r\n",
        "\r\n",
        "watch_agent(agentDQN, env)"
      ],
      "execution_count": 16,
      "outputs": [
        {
          "output_type": "stream",
          "text": [
            "Reward: 31.0\n"
          ],
          "name": "stdout"
        },
        {
          "output_type": "display_data",
          "data": {
            "image/png": "[encoded data removed]",
            "text/plain": [
              "<Figure size 432x288 with 1 Axes>"
            ]
          },
          "metadata": {
            "tags": [],
            "needs_background": "light"
          }
        }
      ]
    },
    {
      "cell_type": "code",
      "metadata": {
        "colab": {
          "base_uri": "https://localhost:8080/"
        },
        "id": "0l1u2ZQ-5PQA",
        "outputId": "eb553489-2261-493d-d141-b5063a3367b3"
      },
      "source": [
        "for i in range(20):\r\n",
        "  result = agentDQN.train()\r\n",
        "  print(f'Mean reward: {result[\"episode_reward_mean\"]:4.1f}')"
      ],
      "execution_count": 17,
      "outputs": [
        {
          "output_type": "stream",
          "text": [
            "Mean reward: 19.8\n",
            "Mean reward: 19.6\n",
            "Mean reward: 22.1\n",
            "Mean reward: 27.5\n",
            "Mean reward: 33.8\n",
            "Mean reward: 41.4\n",
            "Mean reward: 50.9\n",
            "Mean reward: 58.8\n",
            "Mean reward: 68.7\n",
            "Mean reward: 75.8\n",
            "Mean reward: 84.7\n",
            "Mean reward: 91.9\n",
            "Mean reward: 100.2\n",
            "Mean reward: 109.4\n",
            "Mean reward: 117.0\n",
            "Mean reward: 122.8\n",
            "Mean reward: 128.2\n",
            "Mean reward: 133.2\n",
            "Mean reward: 137.7\n",
            "Mean reward: 144.4\n"
          ],
          "name": "stdout"
        }
      ]
    },
    {
      "cell_type": "code",
      "metadata": {
        "colab": {
          "base_uri": "https://localhost:8080/",
          "height": 265
        },
        "id": "FlOvSvQr7Qay",
        "outputId": "670a2937-bf25-4d5e-b2b1-9ba7b03c6b12"
      },
      "source": [
        "watch_agent(agentDQN, env)"
      ],
      "execution_count": 18,
      "outputs": [
        {
          "output_type": "stream",
          "text": [
            "Reward: 140.0\n"
          ],
          "name": "stdout"
        },
        {
          "output_type": "display_data",
          "data": {
            "image/png": "[encoded data removed]",
            "text/plain": [
              "<Figure size 432x288 with 1 Axes>"
            ]
          },
          "metadata": {
            "tags": [],
            "needs_background": "light"
          }
        }
      ]
    },
    {
      "cell_type": "markdown",
      "metadata": {
        "id": "9ZecCD1x7uhm"
      },
      "source": [
        "**Training with clasic Policy Gradient**"
      ]
    },
    {
      "cell_type": "code",
      "metadata": {
        "colab": {
          "base_uri": "https://localhost:8080/",
          "height": 265
        },
        "id": "VffHMTMt7yzk",
        "outputId": "c441451c-2ea2-4fa6-cdfd-d5dc311a2056"
      },
      "source": [
        "from ray.rllib.agents.pg import PGTrainer, DEFAULT_CONFIG\r\n",
        "config = DEFAULT_CONFIG.copy()\r\n",
        "config[\"num_gpus\"] = 1 # in order to use the GPU\r\n",
        "agentPG = PGTrainer(config=config, env='CartPole-v0')\r\n",
        "\r\n",
        "watch_agent(agentPG, env)"
      ],
      "execution_count": 13,
      "outputs": [
        {
          "output_type": "stream",
          "text": [
            "Reward: 26.0\n"
          ],
          "name": "stdout"
        },
        {
          "output_type": "display_data",
          "data": {
            "image/png": "[encoded data removed]",
            "text/plain": [
              "<Figure size 432x288 with 1 Axes>"
            ]
          },
          "metadata": {
            "tags": [],
            "needs_background": "light"
          }
        }
      ]
    },
    {
      "cell_type": "code",
      "metadata": {
        "colab": {
          "base_uri": "https://localhost:8080/"
        },
        "id": "GpT71W0D7-xD",
        "outputId": "7a90646b-247a-4e2d-8b85-c082fd5fb53f"
      },
      "source": [
        "for i in range(40):\r\n",
        "  result = agentPG.train()\r\n",
        "  print(f'Mean reward: {result[\"episode_reward_mean\"]:4.1f}')"
      ],
      "execution_count": 14,
      "outputs": [
        {
          "output_type": "stream",
          "text": [
            "Mean reward: 19.5\n",
            "Mean reward: 22.8\n",
            "Mean reward: 24.8\n",
            "Mean reward: 24.2\n",
            "Mean reward: 24.1\n",
            "Mean reward: 24.8\n",
            "Mean reward: 25.7\n",
            "Mean reward: 25.5\n",
            "Mean reward: 26.4\n",
            "Mean reward: 27.0\n",
            "Mean reward: 27.4\n",
            "Mean reward: 29.0\n",
            "Mean reward: 29.9\n",
            "Mean reward: 30.6\n",
            "Mean reward: 31.9\n",
            "Mean reward: 32.4\n",
            "Mean reward: 33.5\n",
            "Mean reward: 34.6\n",
            "Mean reward: 36.3\n",
            "Mean reward: 37.3\n",
            "Mean reward: 38.3\n",
            "Mean reward: 39.2\n",
            "Mean reward: 40.7\n",
            "Mean reward: 42.0\n",
            "Mean reward: 43.2\n",
            "Mean reward: 44.8\n",
            "Mean reward: 46.1\n",
            "Mean reward: 47.8\n",
            "Mean reward: 49.2\n",
            "Mean reward: 50.4\n",
            "Mean reward: 51.3\n",
            "Mean reward: 53.2\n",
            "Mean reward: 54.2\n",
            "Mean reward: 55.1\n",
            "Mean reward: 56.5\n",
            "Mean reward: 57.8\n",
            "Mean reward: 59.3\n",
            "Mean reward: 60.4\n",
            "Mean reward: 61.7\n",
            "Mean reward: 64.1\n"
          ],
          "name": "stdout"
        }
      ]
    },
    {
      "cell_type": "code",
      "metadata": {
        "colab": {
          "base_uri": "https://localhost:8080/",
          "height": 265
        },
        "id": "7KgNdMp88CC5",
        "outputId": "95396784-e10e-4545-df0a-23e1522c8da6"
      },
      "source": [
        "watch_agent(agentPG, env)"
      ],
      "execution_count": 15,
      "outputs": [
        {
          "output_type": "stream",
          "text": [
            "Reward: 199.0\n"
          ],
          "name": "stdout"
        },
        {
          "output_type": "display_data",
          "data": {
            "image/png": "[encoded data removed]",
            "text/plain": [
              "<Figure size 432x288 with 1 Axes>"
            ]
          },
          "metadata": {
            "tags": [],
            "needs_background": "light"
          }
        }
      ]
    }
  ]
}