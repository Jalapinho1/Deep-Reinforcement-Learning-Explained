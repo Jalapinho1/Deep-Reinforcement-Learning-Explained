{
  "nbformat": 4,
  "nbformat_minor": 0,
  "metadata": {
    "colab": {
      "name": "RFL_PolicyBasedMethods.ipynb",
      "provenance": [],
      "collapsed_sections": [],
      "authorship_tag": "ABX9TyMrOb8IlEHCNKWFZ4WhLb5n",
      "include_colab_link": true
    },
    "kernelspec": {
      "name": "python3",
      "display_name": "Python 3"
    },
    "accelerator": "GPU"
  },
  "cells": [
    {
      "cell_type": "markdown",
      "metadata": {
        "id": "view-in-github",
        "colab_type": "text"
      },
      "source": [
        "<a href=\"https://colab.research.google.com/github/Jalapinho1/Deep-Reinforcement-Learning-Explained/blob/main/RFL_PolicyBasedMethods.ipynb\" target=\"_parent\"><img src=\"https://colab.research.google.com/assets/colab-badge.svg\" alt=\"Open In Colab\"/></a>"
      ]
    },
    {
      "cell_type": "markdown",
      "metadata": {
        "id": "CxoA-ZKKOaNI"
      },
      "source": [
        "**Hill Climbing**"
      ]
    },
    {
      "cell_type": "code",
      "metadata": {
        "id": "HHI0yXWtmJjd"
      },
      "source": [
        "import gym\r\n",
        "import numpy as np\r\n",
        "from collections import deque\r\n",
        "import matplotlib.pyplot as plt"
      ],
      "execution_count": 3,
      "outputs": []
    },
    {
      "cell_type": "code",
      "metadata": {
        "colab": {
          "base_uri": "https://localhost:8080/"
        },
        "id": "5s2ww_SfAPub",
        "outputId": "9cbe4cf9-f31c-4e53-8124-aff4a3abc0ac"
      },
      "source": [
        "# Taken from \r\n",
        "# https://towardsdatascience.com/rendering-openai-gym-envs-on-binder-and-google-colab-536f99391cc7\r\n",
        "\r\n",
        "!apt-get install -y xvfb x11-utils\r\n",
        "\r\n",
        "!pip install pyvirtualdisplay==0.2.* \\\r\n",
        "             PyOpenGL==3.1.* \\\r\n",
        "             PyOpenGL-accelerate==3.1.*\r\n",
        "\r\n",
        "!pip install gym[box2d]==0.17.*\r\n",
        "\r\n",
        "# Taken from https://github.com/actions/virtual-environments/issues/214\r\n",
        "!sudo apt-get update\r\n",
        "!sudo apt-get install xvfb --fix-missing\r\n",
        "\r\n",
        "import pyvirtualdisplay\r\n",
        "\r\n",
        "_display = pyvirtualdisplay.Display(visible=False, size=(1400, 900))\r\n",
        "_ = _display.start()\r\n",
        "\r\n",
        "!echo $DISPLAY # sanity checking should now be set to some value\r\n",
        "\r\n",
        "from IPython import display"
      ],
      "execution_count": 2,
      "outputs": [
        {
          "output_type": "stream",
          "text": [
            "Reading package lists... Done\n",
            "Building dependency tree       \n",
            "Reading state information... Done\n",
            "The following additional packages will be installed:\n",
            "  libxxf86dga1\n",
            "Suggested packages:\n",
            "  mesa-utils\n",
            "The following NEW packages will be installed:\n",
            "  libxxf86dga1 x11-utils xvfb\n",
            "0 upgraded, 3 newly installed, 0 to remove and 15 not upgraded.\n",
            "Need to get 993 kB of archives.\n",
            "After this operation, 2,981 kB of additional disk space will be used.\n",
            "Get:1 http://archive.ubuntu.com/ubuntu bionic/main amd64 libxxf86dga1 amd64 2:1.1.4-1 [13.7 kB]\n",
            "Get:2 http://archive.ubuntu.com/ubuntu bionic/main amd64 x11-utils amd64 7.7+3build1 [196 kB]\n",
            "Get:3 http://archive.ubuntu.com/ubuntu bionic-updates/universe amd64 xvfb amd64 2:1.19.6-1ubuntu4.8 [784 kB]\n",
            "Fetched 993 kB in 0s (9,719 kB/s)\n",
            "Selecting previously unselected package libxxf86dga1:amd64.\n",
            "(Reading database ... 145480 files and directories currently installed.)\n",
            "Preparing to unpack .../libxxf86dga1_2%3a1.1.4-1_amd64.deb ...\n",
            "Unpacking libxxf86dga1:amd64 (2:1.1.4-1) ...\n",
            "Selecting previously unselected package x11-utils.\n",
            "Preparing to unpack .../x11-utils_7.7+3build1_amd64.deb ...\n",
            "Unpacking x11-utils (7.7+3build1) ...\n",
            "Selecting previously unselected package xvfb.\n",
            "Preparing to unpack .../xvfb_2%3a1.19.6-1ubuntu4.8_amd64.deb ...\n",
            "Unpacking xvfb (2:1.19.6-1ubuntu4.8) ...\n",
            "Setting up xvfb (2:1.19.6-1ubuntu4.8) ...\n",
            "Setting up libxxf86dga1:amd64 (2:1.1.4-1) ...\n",
            "Setting up x11-utils (7.7+3build1) ...\n",
            "Processing triggers for man-db (2.8.3-2ubuntu0.1) ...\n",
            "Processing triggers for libc-bin (2.27-3ubuntu1.2) ...\n",
            "/sbin/ldconfig.real: /usr/local/lib/python3.6/dist-packages/ideep4py/lib/libmkldnn.so.0 is not a symbolic link\n",
            "\n",
            "Collecting pyvirtualdisplay==0.2.*\n",
            "  Downloading https://files.pythonhosted.org/packages/69/ec/8221a07850d69fa3c57c02e526edd23d18c7c05d58ed103e3b19172757c1/PyVirtualDisplay-0.2.5-py2.py3-none-any.whl\n",
            "Requirement already satisfied: PyOpenGL==3.1.* in /usr/local/lib/python3.6/dist-packages (3.1.5)\n",
            "Collecting PyOpenGL-accelerate==3.1.*\n",
            "\u001b[?25l  Downloading https://files.pythonhosted.org/packages/a2/3c/f42a62b7784c04b20f8b88d6c8ad04f4f20b0767b721102418aad94d8389/PyOpenGL-accelerate-3.1.5.tar.gz (538kB)\n",
            "\u001b[K     |████████████████████████████████| 542kB 12.4MB/s \n",
            "\u001b[?25hCollecting EasyProcess\n",
            "  Downloading https://files.pythonhosted.org/packages/48/3c/75573613641c90c6d094059ac28adb748560d99bd27ee6f80cce398f404e/EasyProcess-0.3-py2.py3-none-any.whl\n",
            "Building wheels for collected packages: PyOpenGL-accelerate\n",
            "  Building wheel for PyOpenGL-accelerate (setup.py) ... \u001b[?25l\u001b[?25hdone\n",
            "  Created wheel for PyOpenGL-accelerate: filename=PyOpenGL_accelerate-3.1.5-cp36-cp36m-linux_x86_64.whl size=1593679 sha256=b3137c330c61043f9eeb6193ab82f41197afc8be7cb891dba5bfdcd5383c3087\n",
            "  Stored in directory: /root/.cache/pip/wheels/bd/21/77/99670ceca25fddb3c2b60a7ae44644b8253d1006e8ec417bcc\n",
            "Successfully built PyOpenGL-accelerate\n",
            "Installing collected packages: EasyProcess, pyvirtualdisplay, PyOpenGL-accelerate\n",
            "Successfully installed EasyProcess-0.3 PyOpenGL-accelerate-3.1.5 pyvirtualdisplay-0.2.5\n",
            "Requirement already satisfied: gym[box2d]==0.17.* in /usr/local/lib/python3.6/dist-packages (0.17.3)\n",
            "Requirement already satisfied: scipy in /usr/local/lib/python3.6/dist-packages (from gym[box2d]==0.17.*) (1.4.1)\n",
            "Requirement already satisfied: pyglet<=1.5.0,>=1.4.0 in /usr/local/lib/python3.6/dist-packages (from gym[box2d]==0.17.*) (1.5.0)\n",
            "Requirement already satisfied: cloudpickle<1.7.0,>=1.2.0 in /usr/local/lib/python3.6/dist-packages (from gym[box2d]==0.17.*) (1.3.0)\n",
            "Requirement already satisfied: numpy>=1.10.4 in /usr/local/lib/python3.6/dist-packages (from gym[box2d]==0.17.*) (1.19.4)\n",
            "Collecting box2d-py~=2.3.5; extra == \"box2d\"\n",
            "\u001b[?25l  Downloading https://files.pythonhosted.org/packages/06/bd/6cdc3fd994b0649dcf5d9bad85bd9e26172308bbe9a421bfc6fdbf5081a6/box2d_py-2.3.8-cp36-cp36m-manylinux1_x86_64.whl (448kB)\n",
            "\u001b[K     |████████████████████████████████| 450kB 12.2MB/s \n",
            "\u001b[?25hRequirement already satisfied: future in /usr/local/lib/python3.6/dist-packages (from pyglet<=1.5.0,>=1.4.0->gym[box2d]==0.17.*) (0.16.0)\n",
            "Installing collected packages: box2d-py\n",
            "Successfully installed box2d-py-2.3.8\n",
            "Get:1 http://ppa.launchpad.net/c2d4u.team/c2d4u4.0+/ubuntu bionic InRelease [15.9 kB]\n",
            "Hit:2 http://archive.ubuntu.com/ubuntu bionic InRelease\n",
            "Get:3 http://archive.ubuntu.com/ubuntu bionic-updates InRelease [88.7 kB]\n",
            "Get:4 https://cloud.r-project.org/bin/linux/ubuntu bionic-cran40/ InRelease [3,626 B]\n",
            "Hit:5 http://ppa.launchpad.net/cran/libgit2/ubuntu bionic InRelease\n",
            "Get:6 http://archive.ubuntu.com/ubuntu bionic-backports InRelease [74.6 kB]\n",
            "Hit:7 http://ppa.launchpad.net/graphics-drivers/ppa/ubuntu bionic InRelease\n",
            "Get:8 http://security.ubuntu.com/ubuntu bionic-security InRelease [88.7 kB]\n",
            "Ign:9 https://developer.download.nvidia.com/compute/cuda/repos/ubuntu1804/x86_64  InRelease\n",
            "Get:10 http://ppa.launchpad.net/c2d4u.team/c2d4u4.0+/ubuntu bionic/main Sources [1,704 kB]\n",
            "Get:11 https://cloud.r-project.org/bin/linux/ubuntu bionic-cran40/ Packages [41.5 kB]\n",
            "Ign:12 https://developer.download.nvidia.com/compute/machine-learning/repos/ubuntu1804/x86_64  InRelease\n",
            "Hit:13 https://developer.download.nvidia.com/compute/cuda/repos/ubuntu1804/x86_64  Release\n",
            "Hit:14 https://developer.download.nvidia.com/compute/machine-learning/repos/ubuntu1804/x86_64  Release\n",
            "Get:15 http://ppa.launchpad.net/c2d4u.team/c2d4u4.0+/ubuntu bionic/main amd64 Packages [873 kB]\n",
            "Get:16 http://archive.ubuntu.com/ubuntu bionic-updates/main amd64 Packages [2,273 kB]\n",
            "Get:17 http://archive.ubuntu.com/ubuntu bionic-updates/universe amd64 Packages [2,140 kB]\n",
            "Get:18 http://archive.ubuntu.com/ubuntu bionic-updates/multiverse amd64 Packages [53.4 kB]\n",
            "Get:19 http://archive.ubuntu.com/ubuntu bionic-updates/restricted amd64 Packages [277 kB]\n",
            "Get:22 http://security.ubuntu.com/ubuntu bionic-security/main amd64 Packages [1,846 kB]\n",
            "Get:23 http://security.ubuntu.com/ubuntu bionic-security/restricted amd64 Packages [247 kB]\n",
            "Get:24 http://security.ubuntu.com/ubuntu bionic-security/universe amd64 Packages [1,376 kB]\n",
            "Get:25 http://security.ubuntu.com/ubuntu bionic-security/multiverse amd64 Packages [14.9 kB]\n",
            "Fetched 11.1 MB in 2s (5,779 kB/s)\n",
            "Reading package lists... Done\n",
            "Reading package lists... Done\n",
            "Building dependency tree       \n",
            "Reading state information... Done\n",
            "xvfb is already the newest version (2:1.19.6-1ubuntu4.8).\n",
            "0 upgraded, 0 newly installed, 0 to remove and 26 not upgraded.\n",
            ":1001\n"
          ],
          "name": "stdout"
        }
      ]
    },
    {
      "cell_type": "code",
      "metadata": {
        "colab": {
          "base_uri": "https://localhost:8080/"
        },
        "id": "FXCt-EPQAdwL",
        "outputId": "7f0a8037-0264-48af-b80f-db8e683b7925"
      },
      "source": [
        "env = gym.make('CartPole-v0')\r\n",
        "print('observation space:', env.observation_space)\r\n",
        "print('action space:', env.action_space)\r\n",
        "print('threshold: ', env.spec.reward_threshold)"
      ],
      "execution_count": 3,
      "outputs": [
        {
          "output_type": "stream",
          "text": [
            "observation space: Box(-3.4028234663852886e+38, 3.4028234663852886e+38, (4,), float32)\n",
            "action space: Discrete(2)\n",
            "threshold:  195.0\n"
          ],
          "name": "stdout"
        }
      ]
    },
    {
      "cell_type": "markdown",
      "metadata": {
        "id": "A_OrirXkRGEx"
      },
      "source": [
        "The policy π (and its initialization with random weights θ) can be coded as:\r\n"
      ]
    },
    {
      "cell_type": "code",
      "metadata": {
        "id": "_TfTyScgAeej"
      },
      "source": [
        "class Policy():\r\n",
        "    def __init__(self, s_size=4, a_size=2):\r\n",
        "        # 1. Initialize policy π with random weights θ\r\n",
        "        # weights for simple linear policy: state_space x action_space\r\n",
        "        self.θ = 1e-4*np.random.rand(s_size, a_size)  \r\n",
        "        \r\n",
        "    def forward(self, state):\r\n",
        "        x = np.dot(state, self.θ)\r\n",
        "        return np.exp(x)/sum(np.exp(x))\r\n",
        "    \r\n",
        "    def act(self, state):\r\n",
        "        probs = self.forward(state)\r\n",
        "        action = np.argmax(probs)             \r\n",
        "        return action"
      ],
      "execution_count": 4,
      "outputs": []
    },
    {
      "cell_type": "markdown",
      "metadata": {
        "id": "fHmf5e0YRIno"
      },
      "source": [
        "To visualize the training’s effect, we plot the weights θ before and after the training and render how the Agent apply the policy:"
      ]
    },
    {
      "cell_type": "code",
      "metadata": {
        "id": "EsTSHceYAisP"
      },
      "source": [
        "def watch_agent():\r\n",
        "  env = gym.make('CartPole-v0')\r\n",
        "  state = env.reset()\r\n",
        "  rewards = []\r\n",
        "  img = plt.imshow(env.render(mode='rgb_array'))\r\n",
        "  for t in range(2000):\r\n",
        "    action = policy.act(state)\r\n",
        "    img.set_data(env.render(mode='rgb_array')) \r\n",
        "    plt.axis('off')\r\n",
        "    display.display(plt.gcf())\r\n",
        "    display.clear_output(wait=True)\r\n",
        "    state, reward, done, _ = env.step(action)\r\n",
        "    rewards.append(reward)\r\n",
        "    if done:\r\n",
        "        print(\"Reward:\", sum([r for r in rewards]))\r\n",
        "        break \r\n",
        "  env.close()"
      ],
      "execution_count": 5,
      "outputs": []
    },
    {
      "cell_type": "code",
      "metadata": {
        "colab": {
          "base_uri": "https://localhost:8080/"
        },
        "id": "MA1cW4AHAkTc",
        "outputId": "cef31744-34f8-4af2-e792-03ce48af8009"
      },
      "source": [
        "policy = Policy()\r\n",
        "print (\"Policy weights θ before train:\\n\", policy.θ)"
      ],
      "execution_count": 13,
      "outputs": [
        {
          "output_type": "stream",
          "text": [
            "Policy weights θ before train:\n",
            " [[5.96506314e-05 9.87084947e-05]\n",
            " [9.49812979e-05 6.25996539e-05]\n",
            " [1.79652127e-05 1.01385527e-05]\n",
            " [4.27035894e-05 1.93391052e-05]]\n"
          ],
          "name": "stdout"
        }
      ]
    },
    {
      "cell_type": "code",
      "metadata": {
        "id": "n9Ji8nOYAuMT"
      },
      "source": [
        "watch_agent()"
      ],
      "execution_count": null,
      "outputs": []
    },
    {
      "cell_type": "markdown",
      "metadata": {
        "id": "rdlqh7oKRNpt"
      },
      "source": [
        "The following code defines the function that trains the Agent:\r\n"
      ]
    },
    {
      "cell_type": "code",
      "metadata": {
        "id": "8jhRNEpMA6Zu"
      },
      "source": [
        "def hill_climbing(n_episodes=10000, gamma=1.0, noise=1e-2):\r\n",
        "    \"\"\"Implementation of hill climbing.     \r\n",
        "    Params\r\n",
        "    ======\r\n",
        "        n_episodes (int): maximum number of training episodes\r\n",
        "        gamma (float): discount rate\r\n",
        "        noise(float): standard deviation of additive noise\r\n",
        "    \"\"\"\r\n",
        "    scores_deque = deque(maxlen=100)\r\n",
        "    scores = []\r\n",
        "    \r\n",
        "    #2. Initialize θbest (our best guess for the weights θ)\r\n",
        "    #3. Initialize Gbest (our highest return G we have gotten so far)\r\n",
        "    Gbest = -np.Inf\r\n",
        "    θbest = policy.θ\r\n",
        "    for i_episode in range(1, n_episodes+1):\r\n",
        "        rewards = []\r\n",
        "        state = env.reset()\r\n",
        "        while True:\r\n",
        "        #4. Collect a single episode with θ, and record the return G\r\n",
        "            action = policy.act(state)\r\n",
        "            state, reward, done, _ = env.step(action)\r\n",
        "            rewards.append(reward)\r\n",
        "            if done:\r\n",
        "                break \r\n",
        "        scores_deque.append(sum(rewards))\r\n",
        "        scores.append(sum(rewards))\r\n",
        "\r\n",
        "        discounts = [gamma**i for i in range(len(rewards)+1)]\r\n",
        "        G = sum([a*b for a,b in zip(discounts, rewards)])\r\n",
        "\r\n",
        "        if G >= Gbest: # 5. If G>Gbest then θbest←θ & Gbest←G\r\n",
        "            Gbest = G\r\n",
        "            θbest = policy.θ\r\n",
        "        \r\n",
        "        #6. Add a little bit of random noise to θbest, to get a new set of weights θ\r\n",
        "        policy.θ = θbest + noise * np.random.rand(*policy.θ.shape)\r\n",
        "\r\n",
        "        if i_episode % 10 == 0:\r\n",
        "            print('Episode {}\\tAverage Score: {:.2f}'.format(i_episode, np.mean(scores_deque)))\r\n",
        "\r\n",
        "        # 7. Repeat steps 4-6 until Environment solved.    \r\n",
        "        if np.mean(scores_deque)>=env.spec.reward_threshold:\r\n",
        "            print('Environment solved in {:d} episodes!\\tAverage Score: {:.2f}'.format(i_episode, np.mean(scores_deque)))\r\n",
        "            policy.θ = θbest\r\n",
        "            break\r\n",
        "        \r\n",
        "    return scores"
      ],
      "execution_count": 18,
      "outputs": []
    },
    {
      "cell_type": "code",
      "metadata": {
        "colab": {
          "base_uri": "https://localhost:8080/"
        },
        "id": "AT5As0CPOLKE",
        "outputId": "8caa1313-320b-40ea-ed0e-e0a6c579bafa"
      },
      "source": [
        "scores = hill_climbing(gamma=0.9)\r\n"
      ],
      "execution_count": 19,
      "outputs": [
        {
          "output_type": "stream",
          "text": [
            "Episode 10\tAverage Score: 106.10\n",
            "Episode 20\tAverage Score: 124.90\n",
            "Episode 30\tAverage Score: 116.80\n",
            "Episode 40\tAverage Score: 117.70\n",
            "Episode 50\tAverage Score: 113.54\n",
            "Episode 60\tAverage Score: 117.43\n",
            "Episode 70\tAverage Score: 122.30\n",
            "Episode 80\tAverage Score: 125.29\n",
            "Episode 90\tAverage Score: 129.17\n",
            "Episode 100\tAverage Score: 130.93\n",
            "Episode 110\tAverage Score: 137.95\n",
            "Episode 120\tAverage Score: 143.58\n",
            "Episode 130\tAverage Score: 153.52\n",
            "Episode 140\tAverage Score: 159.56\n",
            "Episode 150\tAverage Score: 169.46\n",
            "Episode 160\tAverage Score: 175.56\n",
            "Episode 170\tAverage Score: 179.54\n",
            "Episode 180\tAverage Score: 184.92\n",
            "Episode 190\tAverage Score: 188.90\n",
            "Episode 200\tAverage Score: 192.66\n",
            "Episode 210\tAverage Score: 194.00\n",
            "Episode 220\tAverage Score: 193.21\n",
            "Episode 230\tAverage Score: 191.57\n",
            "Episode 240\tAverage Score: 193.31\n",
            "Episode 250\tAverage Score: 193.72\n",
            "Episode 260\tAverage Score: 193.47\n",
            "Episode 270\tAverage Score: 194.34\n",
            "Episode 280\tAverage Score: 194.34\n",
            "Episode 290\tAverage Score: 194.34\n",
            "Environment solved in 299 episodes!\tAverage Score: 195.44\n"
          ],
          "name": "stdout"
        }
      ]
    },
    {
      "cell_type": "code",
      "metadata": {
        "colab": {
          "base_uri": "https://localhost:8080/",
          "height": 279
        },
        "id": "ziB-NH4OONYe",
        "outputId": "405d894d-0f80-4387-ccfc-0071871290b3"
      },
      "source": [
        "fig = plt.figure()\r\n",
        "#ax = fig.add_subplot(111)\r\n",
        "plt.plot(np.arange(1, len(scores)+1), scores)\r\n",
        "plt.ylabel('Score')\r\n",
        "plt.xlabel('Episode #')\r\n",
        "plt.show()"
      ],
      "execution_count": 20,
      "outputs": [
        {
          "output_type": "display_data",
          "data": {
            "image/png": "[encoded data removed]",
            "text/plain": [
              "<Figure size 432x288 with 1 Axes>"
            ]
          },
          "metadata": {
            "tags": [],
            "needs_background": "light"
          }
        }
      ]
    },
    {
      "cell_type": "code",
      "metadata": {
        "colab": {
          "base_uri": "https://localhost:8080/"
        },
        "id": "D2RhBpmcOPSy",
        "outputId": "b8abc53d-0351-4f72-823f-94ea459aca11"
      },
      "source": [
        "print (\"Policy weights θ after train:\\n\", policy.θ)\r\n"
      ],
      "execution_count": 21,
      "outputs": [
        {
          "output_type": "stream",
          "text": [
            "Policy weights θ after train:\n",
            " [[0.99461847 0.97990184]\n",
            " [1.03413132 1.07247061]\n",
            " [1.02918432 1.04674339]\n",
            " [1.04618747 1.11940143]]\n"
          ],
          "name": "stdout"
        }
      ]
    },
    {
      "cell_type": "code",
      "metadata": {
        "colab": {
          "base_uri": "https://localhost:8080/",
          "height": 162
        },
        "id": "atp6DGWyOQpe",
        "outputId": "930809f6-fa74-4973-cc9a-d1c79d83bc13"
      },
      "source": [
        "watch_agent()"
      ],
      "execution_count": 1,
      "outputs": [
        {
          "output_type": "error",
          "ename": "NameError",
          "evalue": "ignored",
          "traceback": [
            "\u001b[0;31m---------------------------------------------------------------------------\u001b[0m",
            "\u001b[0;31mNameError\u001b[0m                                 Traceback (most recent call last)",
            "\u001b[0;32m<ipython-input-1-1cf6a0ed0bdd>\u001b[0m in \u001b[0;36m<module>\u001b[0;34m()\u001b[0m\n\u001b[0;32m----> 1\u001b[0;31m \u001b[0mwatch_agent\u001b[0m\u001b[0;34m(\u001b[0m\u001b[0;34m)\u001b[0m\u001b[0;34m\u001b[0m\u001b[0;34m\u001b[0m\u001b[0m\n\u001b[0m",
            "\u001b[0;31mNameError\u001b[0m: name 'watch_agent' is not defined"
          ]
        }
      ]
    }
  ]
}